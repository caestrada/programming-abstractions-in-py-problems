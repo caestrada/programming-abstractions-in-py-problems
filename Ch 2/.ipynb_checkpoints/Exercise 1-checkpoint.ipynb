{
 "cells": [
  {
   "cell_type": "markdown",
   "id": "c37cd977",
   "metadata": {},
   "source": [
    "# Exercise 1\n",
    "\n",
    "If you did not do so the first time around, rewrite the Celsius-to-Fahrenheit \n",
    "program from exercise 1 in Chapter 1 so that it uses a function to perform \n",
    "the conversion.\n",
    "\n",
    "Write a program that reads in a temperature in degrees Celsius and displays \n",
    "the corresponding temperature in degrees Fahrenheit. The conversion formula \n",
    "is:\n",
    "F = (9/5)C + 32"
   ]
  },
  {
   "cell_type": "code",
   "execution_count": 8,
   "id": "bde251e4",
   "metadata": {},
   "outputs": [],
   "source": [
    "def celsius_to_fahrenheit(celcius):\n",
    "    fahrenheit = (celcius * 9/5) + 32\n",
    "    return fahrenheit"
   ]
  },
  {
   "cell_type": "code",
   "execution_count": 10,
   "id": "8a4a382d",
   "metadata": {},
   "outputs": [
    {
     "data": {
      "text/plain": [
       "89.6"
      ]
     },
     "execution_count": 10,
     "metadata": {},
     "output_type": "execute_result"
    }
   ],
   "source": [
    "celsius_to_fahrenheit(32)"
   ]
  }
 ],
 "metadata": {
  "kernelspec": {
   "display_name": "Python 3 (ipykernel)",
   "language": "python",
   "name": "python3"
  },
  "language_info": {
   "codemirror_mode": {
    "name": "ipython",
    "version": 3
   },
   "file_extension": ".py",
   "mimetype": "text/x-python",
   "name": "python",
   "nbconvert_exporter": "python",
   "pygments_lexer": "ipython3",
   "version": "3.9.12"
  }
 },
 "nbformat": 4,
 "nbformat_minor": 5
}
