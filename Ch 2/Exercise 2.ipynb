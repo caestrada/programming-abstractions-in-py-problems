{
 "cells": [
  {
   "cell_type": "markdown",
   "id": "0efcc948",
   "metadata": {},
   "source": [
    "Exercise 2\n",
    "Reimplement the distance-conversion program from exercise 2 in Chapter 1 so that it uses a function. In this case, the function must produce both the number of feet and the number of inches, which means that you need to use call by reference to return these values.\n",
    "\n",
    "Write a program that converts a distance in meters to the corresponding English distance in feet and inches. The conversion factors you need are\n",
    " * 1 inch = 0.0254 meters\n",
    " * 1 foot = 12 inches"
   ]
  },
  {
   "cell_type": "code",
   "execution_count": 20,
   "id": "fca31c02",
   "metadata": {},
   "outputs": [],
   "source": [
    "def convert_distance(m):\n",
    "    total_inches = m / 0.0254    \n",
    "    feet = int(total_inches / 12)\n",
    "    inches = round(total_inches - feet * 12, 1)\n",
    "    \n",
    "    return (feet, inches)"
   ]
  },
  {
   "cell_type": "code",
   "execution_count": 22,
   "id": "de16f390",
   "metadata": {},
   "outputs": [
    {
     "name": "stdout",
     "output_type": "stream",
     "text": [
      "10 meters is equivalent to: 32 feet and 9.7 inches\n"
     ]
    }
   ],
   "source": [
    "meters = 10\n",
    "result = convert_distance(meters)\n",
    "print(f\"{meters} meters is equivalent to: {result[0]} feet and {result[1]} inches\")"
   ]
  },
  {
   "cell_type": "code",
   "execution_count": null,
   "id": "1215812b",
   "metadata": {},
   "outputs": [],
   "source": []
  }
 ],
 "metadata": {
  "kernelspec": {
   "display_name": "Python 3 (ipykernel)",
   "language": "python",
   "name": "python3"
  },
  "language_info": {
   "codemirror_mode": {
    "name": "ipython",
    "version": 3
   },
   "file_extension": ".py",
   "mimetype": "text/x-python",
   "name": "python",
   "nbconvert_exporter": "python",
   "pygments_lexer": "ipython3",
   "version": "3.9.12"
  }
 },
 "nbformat": 4,
 "nbformat_minor": 5
}
